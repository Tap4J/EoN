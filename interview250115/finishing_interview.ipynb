{
 "cells": [
  {
   "cell_type": "code",
   "execution_count": 2,
   "id": "003ecd7c-781e-4f1e-8d4f-e8c8f04b5e22",
   "metadata": {},
   "outputs": [],
   "source": [
    "import pandas as pd\n",
    "import numpy as np"
   ]
  },
  {
   "cell_type": "code",
   "execution_count": 3,
   "id": "6f42670f-2a58-47f7-88aa-5c70a1714d50",
   "metadata": {},
   "outputs": [],
   "source": [
    "start_date = '2017-01-01 00:00:00'\n",
    "end_date = '2023-12-31 23:00:00'\n",
    "index = pd.date_range(start=start_date, end=end_date, freq='h')\n",
    "data = np.random.uniform(low=50, high=100, size=len(index))\n",
    "hourly_prices = pd.Series(data=data, index=index)"
   ]
  },
  {
   "cell_type": "code",
   "execution_count": 4,
   "id": "47665aa4-80e7-423b-a39e-bb462a13f527",
   "metadata": {},
   "outputs": [
    {
     "data": {
      "text/plain": [
       "2017-01-01 00:00:00    71.564299\n",
       "2017-01-01 01:00:00    73.462147\n",
       "2017-01-01 02:00:00    95.139520\n",
       "2017-01-01 03:00:00    78.593865\n",
       "2017-01-01 04:00:00    61.025971\n",
       "                         ...    \n",
       "2023-12-31 19:00:00    96.089959\n",
       "2023-12-31 20:00:00    69.997726\n",
       "2023-12-31 21:00:00    81.194113\n",
       "2023-12-31 22:00:00    56.800671\n",
       "2023-12-31 23:00:00    62.255816\n",
       "Freq: h, Length: 61344, dtype: float64"
      ]
     },
     "execution_count": 4,
     "metadata": {},
     "output_type": "execute_result"
    }
   ],
   "source": [
    "hourly_prices"
   ]
  },
  {
   "cell_type": "code",
   "execution_count": 5,
   "id": "c7c0700a-9ec6-400d-9b67-675710885e7b",
   "metadata": {},
   "outputs": [
    {
     "data": {
      "text/plain": [
       "dtype('<M8[ns]')"
      ]
     },
     "execution_count": 5,
     "metadata": {},
     "output_type": "execute_result"
    }
   ],
   "source": [
    "hourly_prices.index.dtype"
   ]
  },
  {
   "cell_type": "code",
   "execution_count": 6,
   "id": "2620f2ca-3162-48e1-8c16-a2548458e5b3",
   "metadata": {},
   "outputs": [],
   "source": [
    "hourly_prices.index =pd.to_datetime(hourly_prices.index)"
   ]
  },
  {
   "cell_type": "code",
   "execution_count": 7,
   "id": "e696c6c8-0bad-4470-879a-9b95b8dee231",
   "metadata": {},
   "outputs": [
    {
     "data": {
      "text/plain": [
       "2017-01-01 00:00:00    71.564299\n",
       "2017-01-01 01:00:00    73.462147\n",
       "2017-01-01 02:00:00    95.139520\n",
       "2017-01-01 03:00:00    78.593865\n",
       "2017-01-01 04:00:00    61.025971\n",
       "                         ...    \n",
       "2023-12-31 19:00:00    96.089959\n",
       "2023-12-31 20:00:00    69.997726\n",
       "2023-12-31 21:00:00    81.194113\n",
       "2023-12-31 22:00:00    56.800671\n",
       "2023-12-31 23:00:00    62.255816\n",
       "Freq: h, Length: 61344, dtype: float64"
      ]
     },
     "execution_count": 7,
     "metadata": {},
     "output_type": "execute_result"
    }
   ],
   "source": [
    "hourly_prices"
   ]
  },
  {
   "cell_type": "code",
   "execution_count": 8,
   "id": "6db447ae-aebc-41c8-afbd-ed54bbe24b54",
   "metadata": {},
   "outputs": [
    {
     "data": {
      "text/plain": [
       "np.int64(12186)"
      ]
     },
     "execution_count": 8,
     "metadata": {},
     "output_type": "execute_result"
    }
   ],
   "source": [
    "condition = hourly_prices > 90\n",
    "condition.sum()"
   ]
  },
  {
   "cell_type": "code",
   "execution_count": 9,
   "id": "c51602ce-29e6-48f8-8eb8-6dce8c4a9164",
   "metadata": {},
   "outputs": [
    {
     "name": "stdout",
     "output_type": "stream",
     "text": [
      "99.99884012333081\n"
     ]
    }
   ],
   "source": [
    "condition_2021 = hourly_prices[hourly_prices.index.year == 2021]\n",
    "print(condition_2021.max())"
   ]
  },
  {
   "cell_type": "code",
   "execution_count": 10,
   "id": "98431cd4-7a98-4cbe-84c4-db5efebdaf1b",
   "metadata": {},
   "outputs": [],
   "source": [
    "daily_prices = hourly_prices.copy()"
   ]
  },
  {
   "cell_type": "code",
   "execution_count": 11,
   "id": "dac9d464-ce9a-4963-bab5-763e0bb473f3",
   "metadata": {},
   "outputs": [
    {
     "data": {
      "text/plain": [
       "2017-01-01    75.897354\n",
       "2017-01-02    73.069458\n",
       "2017-01-03    68.557183\n",
       "2017-01-04    72.563070\n",
       "2017-01-05    75.178111\n",
       "                ...    \n",
       "2023-12-27    74.938724\n",
       "2023-12-28    72.999471\n",
       "2023-12-29    71.465818\n",
       "2023-12-30    72.158135\n",
       "2023-12-31    77.582351\n",
       "Freq: D, Length: 2556, dtype: float64"
      ]
     },
     "execution_count": 11,
     "metadata": {},
     "output_type": "execute_result"
    }
   ],
   "source": [
    "daily_prices_avg = daily_prices.resample(\"D\").mean()\n",
    "daily_prices_avg"
   ]
  },
  {
   "cell_type": "code",
   "execution_count": 12,
   "id": "2b54d4c8-8648-4730-95fe-a1cfb2f7f713",
   "metadata": {},
   "outputs": [
    {
     "data": {
      "text/plain": [
       "np.float64(66.7347283202343)"
      ]
     },
     "execution_count": 12,
     "metadata": {},
     "output_type": "execute_result"
    }
   ],
   "source": [
    "min_d = daily_prices_avg.min()\n",
    "min_d"
   ]
  },
  {
   "cell_type": "code",
   "execution_count": 13,
   "id": "fb84be70-2eb7-4ab9-a984-8854c1cdafa4",
   "metadata": {},
   "outputs": [],
   "source": [
    "monthly_price_avg = hourly_prices.resample(\"ME\").mean()"
   ]
  },
  {
   "cell_type": "code",
   "execution_count": 14,
   "id": "58e956ab-9275-4a9c-a95b-a9791cfd2fb1",
   "metadata": {},
   "outputs": [
    {
     "data": {
      "text/plain": [
       "2017    74.756990\n",
       "2018    75.028740\n",
       "2019    74.825368\n",
       "2020    75.091269\n",
       "2021    74.868315\n",
       "2022    75.295876\n",
       "2023    75.124918\n",
       "dtype: float64"
      ]
     },
     "execution_count": 14,
     "metadata": {},
     "output_type": "execute_result"
    }
   ],
   "source": [
    "per_year = monthly_price_avg.groupby(monthly_price_avg.index.year).mean()\n",
    "per_year"
   ]
  },
  {
   "cell_type": "code",
   "execution_count": 16,
   "id": "57cac78f-6eeb-449d-9138-839c6e320a3a",
   "metadata": {},
   "outputs": [],
   "source": [
    "grouped = monthly_price_avg.groupby(\n",
    "    [monthly_price_avg.index.year, monthly_price_avg.index.month]\n",
    ").mean()"
   ]
  },
  {
   "cell_type": "code",
   "execution_count": 17,
   "id": "0e556f04-34cf-4540-bcfe-c39ed96e86ed",
   "metadata": {},
   "outputs": [],
   "source": [
    "df = grouped.unstack(level=0)"
   ]
  },
  {
   "cell_type": "code",
   "execution_count": 18,
   "id": "217ce61b-74fb-4cc4-b2f1-010d2fd418fe",
   "metadata": {},
   "outputs": [],
   "source": [
    "df.index.name = \"Month\"\n",
    "df.columns.name = \"Year\""
   ]
  },
  {
   "cell_type": "code",
   "execution_count": 19,
   "id": "25472392-ab67-4fbb-86ec-fb257de7501b",
   "metadata": {},
   "outputs": [
    {
     "data": {
      "text/html": [
       "<div>\n",
       "<style scoped>\n",
       "    .dataframe tbody tr th:only-of-type {\n",
       "        vertical-align: middle;\n",
       "    }\n",
       "\n",
       "    .dataframe tbody tr th {\n",
       "        vertical-align: top;\n",
       "    }\n",
       "\n",
       "    .dataframe thead th {\n",
       "        text-align: right;\n",
       "    }\n",
       "</style>\n",
       "<table border=\"1\" class=\"dataframe\">\n",
       "  <thead>\n",
       "    <tr style=\"text-align: right;\">\n",
       "      <th>Year</th>\n",
       "      <th>2017</th>\n",
       "      <th>2018</th>\n",
       "      <th>2019</th>\n",
       "      <th>2020</th>\n",
       "      <th>2021</th>\n",
       "      <th>2022</th>\n",
       "      <th>2023</th>\n",
       "    </tr>\n",
       "    <tr>\n",
       "      <th>Month</th>\n",
       "      <th></th>\n",
       "      <th></th>\n",
       "      <th></th>\n",
       "      <th></th>\n",
       "      <th></th>\n",
       "      <th></th>\n",
       "      <th></th>\n",
       "    </tr>\n",
       "  </thead>\n",
       "  <tbody>\n",
       "    <tr>\n",
       "      <th>1</th>\n",
       "      <td>74.273782</td>\n",
       "      <td>75.018268</td>\n",
       "      <td>74.395866</td>\n",
       "      <td>76.147759</td>\n",
       "      <td>74.417075</td>\n",
       "      <td>74.828525</td>\n",
       "      <td>74.581572</td>\n",
       "    </tr>\n",
       "    <tr>\n",
       "      <th>2</th>\n",
       "      <td>74.040871</td>\n",
       "      <td>75.092630</td>\n",
       "      <td>74.831122</td>\n",
       "      <td>75.787286</td>\n",
       "      <td>74.930092</td>\n",
       "      <td>76.176120</td>\n",
       "      <td>76.341199</td>\n",
       "    </tr>\n",
       "    <tr>\n",
       "      <th>3</th>\n",
       "      <td>74.892907</td>\n",
       "      <td>75.083805</td>\n",
       "      <td>74.212066</td>\n",
       "      <td>74.812602</td>\n",
       "      <td>74.880598</td>\n",
       "      <td>75.039859</td>\n",
       "      <td>75.355449</td>\n",
       "    </tr>\n",
       "    <tr>\n",
       "      <th>4</th>\n",
       "      <td>74.994859</td>\n",
       "      <td>74.943758</td>\n",
       "      <td>74.980654</td>\n",
       "      <td>74.890606</td>\n",
       "      <td>75.221692</td>\n",
       "      <td>75.121046</td>\n",
       "      <td>74.826037</td>\n",
       "    </tr>\n",
       "    <tr>\n",
       "      <th>5</th>\n",
       "      <td>74.845263</td>\n",
       "      <td>75.597835</td>\n",
       "      <td>76.103330</td>\n",
       "      <td>74.939696</td>\n",
       "      <td>74.097382</td>\n",
       "      <td>74.734015</td>\n",
       "      <td>75.942188</td>\n",
       "    </tr>\n",
       "    <tr>\n",
       "      <th>6</th>\n",
       "      <td>74.659556</td>\n",
       "      <td>75.488791</td>\n",
       "      <td>74.554442</td>\n",
       "      <td>74.180452</td>\n",
       "      <td>75.622591</td>\n",
       "      <td>75.395225</td>\n",
       "      <td>75.672150</td>\n",
       "    </tr>\n",
       "    <tr>\n",
       "      <th>7</th>\n",
       "      <td>73.903526</td>\n",
       "      <td>74.838071</td>\n",
       "      <td>74.286531</td>\n",
       "      <td>75.859923</td>\n",
       "      <td>75.521319</td>\n",
       "      <td>75.369404</td>\n",
       "      <td>74.414003</td>\n",
       "    </tr>\n",
       "    <tr>\n",
       "      <th>8</th>\n",
       "      <td>75.427116</td>\n",
       "      <td>75.889902</td>\n",
       "      <td>74.225846</td>\n",
       "      <td>74.490149</td>\n",
       "      <td>73.795253</td>\n",
       "      <td>74.994673</td>\n",
       "      <td>74.839701</td>\n",
       "    </tr>\n",
       "    <tr>\n",
       "      <th>9</th>\n",
       "      <td>74.627092</td>\n",
       "      <td>74.536303</td>\n",
       "      <td>74.837582</td>\n",
       "      <td>74.865543</td>\n",
       "      <td>75.450074</td>\n",
       "      <td>75.544719</td>\n",
       "      <td>74.937439</td>\n",
       "    </tr>\n",
       "    <tr>\n",
       "      <th>10</th>\n",
       "      <td>74.628692</td>\n",
       "      <td>74.124866</td>\n",
       "      <td>75.534851</td>\n",
       "      <td>75.630251</td>\n",
       "      <td>75.353569</td>\n",
       "      <td>75.917239</td>\n",
       "      <td>75.060356</td>\n",
       "    </tr>\n",
       "    <tr>\n",
       "      <th>11</th>\n",
       "      <td>75.317648</td>\n",
       "      <td>74.881127</td>\n",
       "      <td>74.588827</td>\n",
       "      <td>74.337787</td>\n",
       "      <td>74.620893</td>\n",
       "      <td>74.850967</td>\n",
       "      <td>74.449374</td>\n",
       "    </tr>\n",
       "    <tr>\n",
       "      <th>12</th>\n",
       "      <td>75.472568</td>\n",
       "      <td>74.849526</td>\n",
       "      <td>75.353294</td>\n",
       "      <td>75.153175</td>\n",
       "      <td>74.509239</td>\n",
       "      <td>75.578723</td>\n",
       "      <td>75.079545</td>\n",
       "    </tr>\n",
       "  </tbody>\n",
       "</table>\n",
       "</div>"
      ],
      "text/plain": [
       "Year        2017       2018       2019       2020       2021       2022  \\\n",
       "Month                                                                     \n",
       "1      74.273782  75.018268  74.395866  76.147759  74.417075  74.828525   \n",
       "2      74.040871  75.092630  74.831122  75.787286  74.930092  76.176120   \n",
       "3      74.892907  75.083805  74.212066  74.812602  74.880598  75.039859   \n",
       "4      74.994859  74.943758  74.980654  74.890606  75.221692  75.121046   \n",
       "5      74.845263  75.597835  76.103330  74.939696  74.097382  74.734015   \n",
       "6      74.659556  75.488791  74.554442  74.180452  75.622591  75.395225   \n",
       "7      73.903526  74.838071  74.286531  75.859923  75.521319  75.369404   \n",
       "8      75.427116  75.889902  74.225846  74.490149  73.795253  74.994673   \n",
       "9      74.627092  74.536303  74.837582  74.865543  75.450074  75.544719   \n",
       "10     74.628692  74.124866  75.534851  75.630251  75.353569  75.917239   \n",
       "11     75.317648  74.881127  74.588827  74.337787  74.620893  74.850967   \n",
       "12     75.472568  74.849526  75.353294  75.153175  74.509239  75.578723   \n",
       "\n",
       "Year        2023  \n",
       "Month             \n",
       "1      74.581572  \n",
       "2      76.341199  \n",
       "3      75.355449  \n",
       "4      74.826037  \n",
       "5      75.942188  \n",
       "6      75.672150  \n",
       "7      74.414003  \n",
       "8      74.839701  \n",
       "9      74.937439  \n",
       "10     75.060356  \n",
       "11     74.449374  \n",
       "12     75.079545  "
      ]
     },
     "execution_count": 19,
     "metadata": {},
     "output_type": "execute_result"
    }
   ],
   "source": [
    "df"
   ]
  },
  {
   "cell_type": "code",
   "execution_count": null,
   "id": "03a5b704-e560-4ff3-8c11-ec4c676739e5",
   "metadata": {},
   "outputs": [],
   "source": []
  }
 ],
 "metadata": {
  "kernelspec": {
   "display_name": "Python 3 (ipykernel)",
   "language": "python",
   "name": "python3"
  },
  "language_info": {
   "codemirror_mode": {
    "name": "ipython",
    "version": 3
   },
   "file_extension": ".py",
   "mimetype": "text/x-python",
   "name": "python",
   "nbconvert_exporter": "python",
   "pygments_lexer": "ipython3",
   "version": "3.10.11"
  }
 },
 "nbformat": 4,
 "nbformat_minor": 5
}
